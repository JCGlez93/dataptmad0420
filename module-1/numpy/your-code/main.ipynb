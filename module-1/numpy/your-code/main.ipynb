{
 "cells": [
  {
   "cell_type": "markdown",
   "metadata": {},
   "source": [
    "# Introduction to NumPy\n",
    "\n",
    "\n",
    "#### 1. Import NumPy under the name np."
   ]
  },
  {
   "cell_type": "code",
   "execution_count": 1,
   "metadata": {},
   "outputs": [],
   "source": [
    "# your code here\n",
    "\n",
    "import numpy as np"
   ]
  },
  {
   "cell_type": "markdown",
   "metadata": {},
   "source": [
    "#### 2. Print your NumPy version."
   ]
  },
  {
   "cell_type": "code",
   "execution_count": 2,
   "metadata": {},
   "outputs": [
    {
     "data": {
      "text/plain": [
       "'1.18.1'"
      ]
     },
     "execution_count": 2,
     "metadata": {},
     "output_type": "execute_result"
    }
   ],
   "source": [
    "# your code here\n",
    "np.__version__\n"
   ]
  },
  {
   "cell_type": "markdown",
   "metadata": {},
   "source": [
    "#### 3. Generate a 2x3x5 3-dimensional array with random values. Assign the array to variable *a*.\n",
    "**Challenge**: there are at least three easy ways that use numpy to generate random arrays. How many ways can you find?"
   ]
  },
  {
   "cell_type": "code",
   "execution_count": 3,
   "metadata": {},
   "outputs": [
    {
     "name": "stdout",
     "output_type": "stream",
     "text": [
      "[[[1 0 0 0 1]\n",
      "  [0 1 1 0 1]\n",
      "  [1 1 1 1 0]]\n",
      "\n",
      " [[0 0 1 1 0]\n",
      "  [0 1 0 0 0]\n",
      "  [1 0 1 1 0]]]\n"
     ]
    }
   ],
   "source": [
    "# Method 1\n",
    "\n",
    "a = np.random.randint(0, 2, size=(2, 3, 5)) #only integers\n",
    "print(a)"
   ]
  },
  {
   "cell_type": "code",
   "execution_count": 4,
   "metadata": {},
   "outputs": [
    {
     "data": {
      "text/plain": [
       "array([[[0.67448802, 0.09066304, 0.89861514, 0.69612728, 0.37898204],\n",
       "        [0.87703149, 0.08658549, 0.33045749, 0.80787954, 0.63642241],\n",
       "        [0.78271567, 0.88497126, 0.04837985, 0.52584781, 0.76153239]],\n",
       "\n",
       "       [[0.06262703, 0.82859009, 0.79542958, 0.8613605 , 0.35828973],\n",
       "        [0.00987296, 0.69388062, 0.06536772, 0.65064019, 0.54616789],\n",
       "        [0.41177846, 0.63559856, 0.65699941, 0.26606913, 0.40088256]]])"
      ]
     },
     "execution_count": 4,
     "metadata": {},
     "output_type": "execute_result"
    }
   ],
   "source": [
    "# Method 2\n",
    "a = np.random.random((2,3,5)) #flots admitted\n",
    "a"
   ]
  },
  {
   "cell_type": "code",
   "execution_count": 5,
   "metadata": {},
   "outputs": [
    {
     "data": {
      "text/plain": [
       "array([[[0.98613998, 0.50273359, 0.29271566, 0.33341757, 0.44363935],\n",
       "        [0.38068508, 0.79965542, 0.39026905, 0.33903468, 0.72764023],\n",
       "        [0.43559984, 0.41188203, 0.73090106, 0.84999047, 0.16926153]],\n",
       "\n",
       "       [[0.96025388, 0.56438926, 0.33497493, 0.76793525, 0.70772927],\n",
       "        [0.90561825, 0.32736568, 0.36607556, 0.47085054, 0.12693903],\n",
       "        [0.38448776, 0.27193883, 0.4829352 , 0.29049642, 0.36256111]]])"
      ]
     },
     "execution_count": 5,
     "metadata": {},
     "output_type": "execute_result"
    }
   ],
   "source": [
    "# Method 3\n",
    "\n",
    "a= np.random.rand ( 2,3,5)\n",
    "a"
   ]
  },
  {
   "cell_type": "markdown",
   "metadata": {},
   "source": [
    "#### 4. Print *a*.\n"
   ]
  },
  {
   "cell_type": "code",
   "execution_count": 6,
   "metadata": {},
   "outputs": [
    {
     "name": "stdout",
     "output_type": "stream",
     "text": [
      "[[[0.98613998 0.50273359 0.29271566 0.33341757 0.44363935]\n",
      "  [0.38068508 0.79965542 0.39026905 0.33903468 0.72764023]\n",
      "  [0.43559984 0.41188203 0.73090106 0.84999047 0.16926153]]\n",
      "\n",
      " [[0.96025388 0.56438926 0.33497493 0.76793525 0.70772927]\n",
      "  [0.90561825 0.32736568 0.36607556 0.47085054 0.12693903]\n",
      "  [0.38448776 0.27193883 0.4829352  0.29049642 0.36256111]]]\n"
     ]
    }
   ],
   "source": [
    "# your code here\n",
    "print(a)"
   ]
  },
  {
   "cell_type": "markdown",
   "metadata": {},
   "source": [
    "#### 5. Create a 5x2x3 3-dimensional array with all values equaling 1. Assign the array to variable *b*."
   ]
  },
  {
   "cell_type": "code",
   "execution_count": 7,
   "metadata": {},
   "outputs": [],
   "source": [
    "# your code here\n",
    "\n",
    "b=np.ones((5,2,3))\n",
    "\n"
   ]
  },
  {
   "cell_type": "markdown",
   "metadata": {},
   "source": [
    "#### 6. Print *b*.\n"
   ]
  },
  {
   "cell_type": "code",
   "execution_count": 8,
   "metadata": {},
   "outputs": [
    {
     "name": "stdout",
     "output_type": "stream",
     "text": [
      "[[[1. 1. 1.]\n",
      "  [1. 1. 1.]]\n",
      "\n",
      " [[1. 1. 1.]\n",
      "  [1. 1. 1.]]\n",
      "\n",
      " [[1. 1. 1.]\n",
      "  [1. 1. 1.]]\n",
      "\n",
      " [[1. 1. 1.]\n",
      "  [1. 1. 1.]]\n",
      "\n",
      " [[1. 1. 1.]\n",
      "  [1. 1. 1.]]]\n"
     ]
    }
   ],
   "source": [
    "# your code here\n",
    "print(b)"
   ]
  },
  {
   "cell_type": "markdown",
   "metadata": {},
   "source": [
    "#### 7. Do *a* and *b* have the same size? How do you prove that in Python code?"
   ]
  },
  {
   "cell_type": "code",
   "execution_count": 9,
   "metadata": {},
   "outputs": [
    {
     "name": "stdout",
     "output_type": "stream",
     "text": [
      "This is a: (2, 3, 5)\n",
      "This is b: (5, 2, 3)\n"
     ]
    }
   ],
   "source": [
    "# your code here\n",
    "print(\"This is a:\", a.shape)\n",
    "print(\"This is b:\", b.shape)\n",
    "#they have different sizes"
   ]
  },
  {
   "cell_type": "markdown",
   "metadata": {},
   "source": [
    "#### 8. Are you able to add *a* and *b*? Why or why not?\n"
   ]
  },
  {
   "cell_type": "code",
   "execution_count": 10,
   "metadata": {},
   "outputs": [
    {
     "name": "stdout",
     "output_type": "stream",
     "text": [
      "This is a: [[[0.98613998 0.50273359 0.29271566 0.33341757 0.44363935]\n",
      "  [0.38068508 0.79965542 0.39026905 0.33903468 0.72764023]\n",
      "  [0.43559984 0.41188203 0.73090106 0.84999047 0.16926153]]\n",
      "\n",
      " [[0.96025388 0.56438926 0.33497493 0.76793525 0.70772927]\n",
      "  [0.90561825 0.32736568 0.36607556 0.47085054 0.12693903]\n",
      "  [0.38448776 0.27193883 0.4829352  0.29049642 0.36256111]]]\n",
      "This is b: [[[1. 1. 1.]\n",
      "  [1. 1. 1.]]\n",
      "\n",
      " [[1. 1. 1.]\n",
      "  [1. 1. 1.]]\n",
      "\n",
      " [[1. 1. 1.]\n",
      "  [1. 1. 1.]]\n",
      "\n",
      " [[1. 1. 1.]\n",
      "  [1. 1. 1.]]\n",
      "\n",
      " [[1. 1. 1.]\n",
      "  [1. 1. 1.]]]\n"
     ]
    },
    {
     "ename": "ValueError",
     "evalue": "operands could not be broadcast together with shapes (2,3,5) (5,2,3) ",
     "output_type": "error",
     "traceback": [
      "\u001b[0;31m---------------------------------------------------------------------------\u001b[0m",
      "\u001b[0;31mValueError\u001b[0m                                Traceback (most recent call last)",
      "\u001b[0;32m<ipython-input-10-8c0c2e12a24f>\u001b[0m in \u001b[0;36m<module>\u001b[0;34m\u001b[0m\n\u001b[1;32m      2\u001b[0m \u001b[0mprint\u001b[0m\u001b[0;34m(\u001b[0m\u001b[0;34m\"This is a:\"\u001b[0m\u001b[0;34m,\u001b[0m\u001b[0ma\u001b[0m\u001b[0;34m)\u001b[0m\u001b[0;34m\u001b[0m\u001b[0;34m\u001b[0m\u001b[0m\n\u001b[1;32m      3\u001b[0m \u001b[0mprint\u001b[0m\u001b[0;34m(\u001b[0m\u001b[0;34m\"This is b:\"\u001b[0m\u001b[0;34m,\u001b[0m\u001b[0mb\u001b[0m\u001b[0;34m)\u001b[0m\u001b[0;34m\u001b[0m\u001b[0;34m\u001b[0m\u001b[0m\n\u001b[0;32m----> 4\u001b[0;31m \u001b[0mprint\u001b[0m\u001b[0;34m(\u001b[0m\u001b[0;34m\"This is a+b\"\u001b[0m\u001b[0;34m,\u001b[0m\u001b[0ma\u001b[0m \u001b[0;34m+\u001b[0m \u001b[0mb\u001b[0m\u001b[0;34m)\u001b[0m\u001b[0;34m\u001b[0m\u001b[0;34m\u001b[0m\u001b[0m\n\u001b[0m\u001b[1;32m      5\u001b[0m \u001b[0;31m#ValueError: operands could not be broadcast together with shapes (2,3,5) (5,2,3\u001b[0m\u001b[0;34m\u001b[0m\u001b[0;34m\u001b[0m\u001b[0;34m\u001b[0m\u001b[0m\n",
      "\u001b[0;31mValueError\u001b[0m: operands could not be broadcast together with shapes (2,3,5) (5,2,3) "
     ]
    }
   ],
   "source": [
    "# your answer here\n",
    "print(\"This is a:\",a)\n",
    "print(\"This is b:\",b)\n",
    "print(\"This is a+b\",a + b)\n",
    "#ValueError: operands could not be broadcast together with shapes (2,3,5) (5,2,3"
   ]
  },
  {
   "cell_type": "markdown",
   "metadata": {},
   "source": [
    "#### 9. Transpose *b* so that it has the same structure of *a* (i.e. become a 2x3x5 array). Assign the transposed array to variable *c*."
   ]
  },
  {
   "cell_type": "code",
   "execution_count": 11,
   "metadata": {},
   "outputs": [
    {
     "name": "stdout",
     "output_type": "stream",
     "text": [
      "(2, 3, 5)\n",
      "(5, 2, 3)\n",
      "(2, 3, 5)\n"
     ]
    }
   ],
   "source": [
    "# your code here\n",
    "\n",
    "c = np.transpose(b,(1,2,0))\n",
    "\n",
    "print(a.shape)\n",
    "print(b.shape)\n",
    "print(c.shape)\n",
    "\n",
    "#np.transpose(x, (1, 0, 2)).shape\n",
    "#(2, 1, 3)"
   ]
  },
  {
   "cell_type": "markdown",
   "metadata": {},
   "source": [
    "#### 10. Try to add *a* and *c*. Now it should work. Assign the sum to variable *d*. But why does it work now?"
   ]
  },
  {
   "cell_type": "code",
   "execution_count": 12,
   "metadata": {},
   "outputs": [
    {
     "data": {
      "text/plain": [
       "array([[[1.98613998, 1.50273359, 1.29271566, 1.33341757, 1.44363935],\n",
       "        [1.38068508, 1.79965542, 1.39026905, 1.33903468, 1.72764023],\n",
       "        [1.43559984, 1.41188203, 1.73090106, 1.84999047, 1.16926153]],\n",
       "\n",
       "       [[1.96025388, 1.56438926, 1.33497493, 1.76793525, 1.70772927],\n",
       "        [1.90561825, 1.32736568, 1.36607556, 1.47085054, 1.12693903],\n",
       "        [1.38448776, 1.27193883, 1.4829352 , 1.29049642, 1.36256111]]])"
      ]
     },
     "execution_count": 12,
     "metadata": {},
     "output_type": "execute_result"
    }
   ],
   "source": [
    "# your code/answer here\n",
    "d = a+c\n",
    "d"
   ]
  },
  {
   "cell_type": "markdown",
   "metadata": {},
   "source": [
    "#### 11. Print *a* and *d*. Notice the difference and relation of the two array in terms of the values? Explain."
   ]
  },
  {
   "cell_type": "code",
   "execution_count": 13,
   "metadata": {},
   "outputs": [
    {
     "name": "stdout",
     "output_type": "stream",
     "text": [
      "[[[0.98613998 0.50273359 0.29271566 0.33341757 0.44363935]\n",
      "  [0.38068508 0.79965542 0.39026905 0.33903468 0.72764023]\n",
      "  [0.43559984 0.41188203 0.73090106 0.84999047 0.16926153]]\n",
      "\n",
      " [[0.96025388 0.56438926 0.33497493 0.76793525 0.70772927]\n",
      "  [0.90561825 0.32736568 0.36607556 0.47085054 0.12693903]\n",
      "  [0.38448776 0.27193883 0.4829352  0.29049642 0.36256111]]]\n",
      "[[[1.98613998 1.50273359 1.29271566 1.33341757 1.44363935]\n",
      "  [1.38068508 1.79965542 1.39026905 1.33903468 1.72764023]\n",
      "  [1.43559984 1.41188203 1.73090106 1.84999047 1.16926153]]\n",
      "\n",
      " [[1.96025388 1.56438926 1.33497493 1.76793525 1.70772927]\n",
      "  [1.90561825 1.32736568 1.36607556 1.47085054 1.12693903]\n",
      "  [1.38448776 1.27193883 1.4829352  1.29049642 1.36256111]]]\n"
     ]
    }
   ],
   "source": [
    "# your code/answer here\n",
    "print(a)\n",
    "print(d)\n",
    "#They are the same size, d is the result of a +  one matrix"
   ]
  },
  {
   "cell_type": "markdown",
   "metadata": {},
   "source": [
    "#### 12. Multiply *a* and *c*. Assign the result to *e*."
   ]
  },
  {
   "cell_type": "code",
   "execution_count": 14,
   "metadata": {},
   "outputs": [
    {
     "data": {
      "text/plain": [
       "array([[[0.98613998, 0.50273359, 0.29271566, 0.33341757, 0.44363935],\n",
       "        [0.38068508, 0.79965542, 0.39026905, 0.33903468, 0.72764023],\n",
       "        [0.43559984, 0.41188203, 0.73090106, 0.84999047, 0.16926153]],\n",
       "\n",
       "       [[0.96025388, 0.56438926, 0.33497493, 0.76793525, 0.70772927],\n",
       "        [0.90561825, 0.32736568, 0.36607556, 0.47085054, 0.12693903],\n",
       "        [0.38448776, 0.27193883, 0.4829352 , 0.29049642, 0.36256111]]])"
      ]
     },
     "execution_count": 14,
     "metadata": {},
     "output_type": "execute_result"
    }
   ],
   "source": [
    "# your code here\n",
    "\n",
    "e = a*c\n",
    "e"
   ]
  },
  {
   "cell_type": "markdown",
   "metadata": {},
   "source": [
    "#### 13. Does *e* equal to *a*? Why or why not?\n"
   ]
  },
  {
   "cell_type": "code",
   "execution_count": 15,
   "metadata": {},
   "outputs": [
    {
     "name": "stdout",
     "output_type": "stream",
     "text": [
      "This is a [[[0.98613998 0.50273359 0.29271566 0.33341757 0.44363935]\n",
      "  [0.38068508 0.79965542 0.39026905 0.33903468 0.72764023]\n",
      "  [0.43559984 0.41188203 0.73090106 0.84999047 0.16926153]]\n",
      "\n",
      " [[0.96025388 0.56438926 0.33497493 0.76793525 0.70772927]\n",
      "  [0.90561825 0.32736568 0.36607556 0.47085054 0.12693903]\n",
      "  [0.38448776 0.27193883 0.4829352  0.29049642 0.36256111]]]\n",
      "This is e [[[0.98613998 0.50273359 0.29271566 0.33341757 0.44363935]\n",
      "  [0.38068508 0.79965542 0.39026905 0.33903468 0.72764023]\n",
      "  [0.43559984 0.41188203 0.73090106 0.84999047 0.16926153]]\n",
      "\n",
      " [[0.96025388 0.56438926 0.33497493 0.76793525 0.70772927]\n",
      "  [0.90561825 0.32736568 0.36607556 0.47085054 0.12693903]\n",
      "  [0.38448776 0.27193883 0.4829352  0.29049642 0.36256111]]]\n",
      "This is c [[[1. 1. 1. 1. 1.]\n",
      "  [1. 1. 1. 1. 1.]\n",
      "  [1. 1. 1. 1. 1.]]\n",
      "\n",
      " [[1. 1. 1. 1. 1.]\n",
      "  [1. 1. 1. 1. 1.]\n",
      "  [1. 1. 1. 1. 1.]]]\n"
     ]
    }
   ],
   "source": [
    "# your code/answer here\n",
    "print(\"This is a\",a)\n",
    "print(\"This is e\",e)\n",
    "print(\"This is c\",c)\n",
    "\n",
    "#They are equal because c is a 1 MATRIX"
   ]
  },
  {
   "cell_type": "markdown",
   "metadata": {},
   "source": [
    "#### 14. Identify the max, min, and mean values in *d*. Assign those values to variables *d_max*, *d_min* and *d_mean*."
   ]
  },
  {
   "cell_type": "code",
   "execution_count": 16,
   "metadata": {},
   "outputs": [
    {
     "name": "stdout",
     "output_type": "stream",
     "text": [
      "1.986139979051302\n",
      "1.1269390303058395\n",
      "1.503937216814979\n",
      "This is d: [[[1.98613998 1.50273359 1.29271566 1.33341757 1.44363935]\n",
      "  [1.38068508 1.79965542 1.39026905 1.33903468 1.72764023]\n",
      "  [1.43559984 1.41188203 1.73090106 1.84999047 1.16926153]]\n",
      "\n",
      " [[1.96025388 1.56438926 1.33497493 1.76793525 1.70772927]\n",
      "  [1.90561825 1.32736568 1.36607556 1.47085054 1.12693903]\n",
      "  [1.38448776 1.27193883 1.4829352  1.29049642 1.36256111]]]\n"
     ]
    }
   ],
   "source": [
    "# your code here\n",
    "\n",
    "d_max = np.max(d)\n",
    "d_min = np.min(d)\n",
    "d_mean = np.mean(d)\n",
    "\n",
    "print(d_max)\n",
    "print(d_min)\n",
    "print(d_mean)\n",
    "print(\"This is d:\",d)"
   ]
  },
  {
   "cell_type": "markdown",
   "metadata": {},
   "source": [
    "#### 15. Now we want to label the values in *d*. First create an empty array *f* with the same shape (i.e. 2x3x5) as *d* using `np.empty`.\n"
   ]
  },
  {
   "cell_type": "code",
   "execution_count": 17,
   "metadata": {},
   "outputs": [
    {
     "data": {
      "text/plain": [
       "array([[[1.98613998, 1.50273359, 1.29271566, 1.33341757, 1.44363935],\n",
       "        [1.38068508, 1.79965542, 1.39026905, 1.33903468, 1.72764023],\n",
       "        [1.43559984, 1.41188203, 1.73090106, 1.84999047, 1.16926153]],\n",
       "\n",
       "       [[1.96025388, 1.56438926, 1.33497493, 1.76793525, 1.70772927],\n",
       "        [1.90561825, 1.32736568, 1.36607556, 1.47085054, 1.12693903],\n",
       "        [1.38448776, 1.27193883, 1.4829352 , 1.29049642, 1.36256111]]])"
      ]
     },
     "execution_count": 17,
     "metadata": {},
     "output_type": "execute_result"
    }
   ],
   "source": [
    "# your code here\n",
    "\n",
    "f = np.empty([2,3,5])\n",
    "f\n",
    "\n"
   ]
  },
  {
   "cell_type": "markdown",
   "metadata": {},
   "source": [
    "#### 16. Populate the values in *f*. \n",
    "\n",
    "For each value in *d*, if it's larger than *d_min* but smaller than *d_mean*, assign 25 to the corresponding value in *f*. If a value in *d* is larger than *d_mean* but smaller than *d_max*, assign 75 to the corresponding value in *f*. If a value equals to *d_mean*, assign 50 to the corresponding value in *f*. Assign 0 to the corresponding value(s) in *f* for *d_min* in *d*. Assign 100 to the corresponding value(s) in *f* for *d_max* in *d*. In the end, f should have only the following values: 0, 25, 50, 75, and 100.\n",
    "\n",
    "**Note**: you don't have to use Numpy in this question."
   ]
  },
  {
   "cell_type": "markdown",
   "metadata": {},
   "source": [
    "# your code here\n",
    "\n",
    "\n",
    "\n"
   ]
  },
  {
   "cell_type": "markdown",
   "metadata": {},
   "source": [
    "- d_min < i < d_mean = 25\n",
    "- d_mean < i < d_max = 75\n",
    "- i == d_mean = 50\n",
    "- i == d_mean = 0\n",
    "- i == dm_max = 100\n"
   ]
  },
  {
   "cell_type": "code",
   "execution_count": 22,
   "metadata": {},
   "outputs": [
    {
     "data": {
      "text/plain": [
       "[[[100, 25, 25, 25, 25], [25, 75, 25, 25, 75], [25, 25, 75, 75, 25]],\n",
       " [[75, 75, 25, 75, 75], [75, 25, 25, 25, 0], [25, 25, 25, 25, 25]]]"
      ]
     },
     "execution_count": 22,
     "metadata": {},
     "output_type": "execute_result"
    }
   ],
   "source": [
    "f = [[\n",
    "         [25 if d_min<item<d_mean \n",
    "          else 75 if d_mean<item< d_max \n",
    "          else 0 if item == d_min \n",
    "          else 50 if item == d_mean\n",
    "          else 100 for item in in_list] #tercer nivel de iteración, donde estan los valores y donde tenemos que meter las condiciones\n",
    "        for in_list in out_list] #segundo nivel de iteración\n",
    "        for out_list in d] #primer nivel de iteración\n",
    "\n",
    "f"
   ]
  },
  {
   "cell_type": "markdown",
   "metadata": {},
   "source": [
    "#### 17. Print *d* and *f*. Do you have your expected *f*?\n",
    "For instance, if your *d* is:\n",
    "```python\n",
    "[[[1.85836099, 1.67064465, 1.62576044, 1.40243961, 1.88454931],\n",
    "[1.75354326, 1.69403643, 1.36729252, 1.61415071, 1.12104981],\n",
    "[1.72201435, 1.1862918 , 1.87078449, 1.7726778 , 1.88180042]],\n",
    "[[1.44747908, 1.31673383, 1.02000951, 1.52218947, 1.97066381],\n",
    "[1.79129243, 1.74983003, 1.96028037, 1.85166831, 1.65450881],\n",
    "[1.18068344, 1.9587381 , 1.00656599, 1.93402165, 1.73514584]]]\n",
    "```\n",
    "Your *f* should be:\n",
    "```python\n",
    "[[[ 75.,  75.,  75.,  25.,  75.],\n",
    "[ 75.,  75.,  25.,  25.,  25.],\n",
    "[ 75.,  25.,  75.,  75.,  75.]],\n",
    "[[ 25.,  25.,  25.,  25., 100.],\n",
    "[ 75.,  75.,  75.,  75.,  75.],\n",
    "[ 25.,  75.,   0.,  75.,  75.]]]\n",
    "```"
   ]
  },
  {
   "cell_type": "code",
   "execution_count": 21,
   "metadata": {},
   "outputs": [
    {
     "name": "stdout",
     "output_type": "stream",
     "text": [
      "[[[1.98613998 1.50273359 1.29271566 1.33341757 1.44363935]\n",
      "  [1.38068508 1.79965542 1.39026905 1.33903468 1.72764023]\n",
      "  [1.43559984 1.41188203 1.73090106 1.84999047 1.16926153]]\n",
      "\n",
      " [[1.96025388 1.56438926 1.33497493 1.76793525 1.70772927]\n",
      "  [1.90561825 1.32736568 1.36607556 1.47085054 1.12693903]\n",
      "  [1.38448776 1.27193883 1.4829352  1.29049642 1.36256111]]]\n",
      "[[[100, 25, 25, 25, 25], [25, 75, 25, 25, 75], [25, 25, 75, 75, 25]], [[75, 75, 25, 75, 75], [75, 25, 25, 25, 0], [25, 25, 25, 25, 25]]]\n"
     ]
    }
   ],
   "source": [
    "# your code here\n",
    "print(d)\n",
    "print(f)"
   ]
  },
  {
   "cell_type": "markdown",
   "metadata": {},
   "source": [
    "#### 18. Bonus question: instead of using numbers (i.e. 0, 25, 50, 75, and 100), use string values  (\"A\", \"B\", \"C\", \"D\", and \"E\") to label the array elements. For the example above, the expected result is:\n",
    "\n",
    "```python\n",
    "[[[ 'D',  'D',  'D',  'B',  'D'],\n",
    "[ 'D',  'D',  'B',  'B',  'B'],\n",
    "[ 'D',  'B',  'D',  'D',  'D']],\n",
    "[[ 'B',  'B',  'B',  'B',  'E'],\n",
    "[ 'D',  'D',  'D',  'D',  'D'],\n",
    "[ 'B',  'D',   'A',  'D', 'D']]]\n",
    "```\n",
    "**Note**: you don't have to use Numpy in this question."
   ]
  },
  {
   "cell_type": "code",
   "execution_count": 23,
   "metadata": {},
   "outputs": [
    {
     "data": {
      "text/plain": [
       "[[['E', 'B', 'B', 'B', 'B'],\n",
       "  ['B', 'D', 'B', 'B', 'D'],\n",
       "  ['B', 'B', 'D', 'D', 'B']],\n",
       " [['D', 'D', 'B', 'D', 'D'],\n",
       "  ['D', 'B', 'B', 'B', 'A'],\n",
       "  ['B', 'B', 'B', 'B', 'B']]]"
      ]
     },
     "execution_count": 23,
     "metadata": {},
     "output_type": "execute_result"
    }
   ],
   "source": [
    "# your code here\n",
    "f = [[\n",
    "         [ 'B' if d_min<item<d_mean \n",
    "          else 'D' if d_mean<item< d_max \n",
    "          else 'A' if item == d_min \n",
    "          else 'C' if item == d_mean\n",
    "          else 'E' for item in in_list] #tercer nivel de iteración, donde estan los valores y donde tenemos que meter las condiciones\n",
    "        for in_list in out_list] #segundo nivel de iteración\n",
    "        for out_list in d] #primer nivel de iteración\n",
    "\n",
    "f"
   ]
  },
  {
   "cell_type": "code",
   "execution_count": null,
   "metadata": {},
   "outputs": [],
   "source": []
  }
 ],
 "metadata": {
  "kernelspec": {
   "display_name": "Python 3",
   "language": "python",
   "name": "python3"
  },
  "language_info": {
   "codemirror_mode": {
    "name": "ipython",
    "version": 3
   },
   "file_extension": ".py",
   "mimetype": "text/x-python",
   "name": "python",
   "nbconvert_exporter": "python",
   "pygments_lexer": "ipython3",
   "version": "3.7.7"
  }
 },
 "nbformat": 4,
 "nbformat_minor": 4
}
